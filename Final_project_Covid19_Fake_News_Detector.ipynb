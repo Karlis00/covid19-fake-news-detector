{
  "cells": [
    {
      "cell_type": "markdown",
      "metadata": {
        "id": "5tr_jEBnh-jv"
      },
      "source": [
        "# Title: Covid19 Fake News Detector\n",
        "\n",
        "#### Group Member Names : Kam Hung Chan and Tongfei Gou\n",
        "\n"
      ]
    },
    {
      "cell_type": "markdown",
      "metadata": {
        "id": "PeKSxMvrh-j0"
      },
      "source": [
        "### INTRODUCTION:\n",
        "This article is a research effort on COVID-19 fake news.With the COVID-19 pandemic, people are fighting not only the epidemic, but also the deluge of information, the so-called “infoplague.” Social media is awash with fake news and rumors, and believing these rumors can cause significant harm, especially during a pandemic. To address this challenge, the researchers curated and published a manually labeled dataset of 10,700 social media posts and articles about COVID-19, covering both real and fake news. The authors conducted a binary classification task (real vs fake) and benchmarked it on a labeled dataset using four machine learning baselines (decision trees, logistic regression, gradient boosting, and support vector machines).\n",
        "\n",
        "*********************************************************************************************************************\n",
        "#### AIM :\n",
        "The main purpose of this study is to deal with the spread of false news on social media during the COVID-19 epidemic. By constructing a dataset containing real and fake news and benchmarking it on a binary classification task, the researchers aimed to provide a method to identify and differentiate between real and disinformation on social media. This helps the public better understand and distinguish information on social media and reduce the spread of false information, thereby reducing misleading and harm.\n",
        "\n",
        "*********************************************************************************************************************\n",
        "#### Github Repo: https://github.com/Karlis00/covid19-fake-news-detector\n",
        "\n",
        "*********************************************************************************************************************\n",
        "#### DESCRIPTION OF PAPER:\n",
        "This text outlines the problem of fake news and rumors spreading alongside the COVID-19 pandemic, often exacerbated by the vast reach of social media platforms. Belief in such misinformation can lead to significant harm, particularly during a crisis. To address this issue, the authors introduce a dataset containing 10,700 social media posts and articles labeled as real or fake news related to COVID-19. They focus on a binary classification task of distinguishing between real and fake content. The dataset is curated from various sources, including fact-checking websites and verified Twitter accounts. The authors also conduct exploratory data analysis and implement four machine learning baselines to benchmark the dataset.\n",
        "*********************************************************************************************************************\n",
        "#### PROBLEM STATEMENT :\n",
        "The abstract and introduction underscore the grave issue of misinformation, particularly fake news, proliferating alongside the COVID-19 pandemic, contributing to what is termed an 'infodemic'. This misinformation poses significant risks as it can lead to harmful actions or decisions when believed. \n",
        "*********************************************************************************************************************\n",
        "#### CONTEXT OF THE PROBLEM:\n",
        "* The background to the problem is the proliferation of misinformation on social media during the COVID-19 pandemic. As the epidemic spreads, the number of false news and rumors posted by people on social media has increased, further exacerbating the so-called infodemic. False information may lead people to make wrong decisions or take harmful actions, posing a serious threat to public health and social stability. Therefore, solving the problem of disinformation has become particularly urgent, and measures need to be taken to identify, prevent and eliminate the spread of such misinformation to maintain public safety and trust.\n",
        "*********************************************************************************************************************\n",
        "#### SOLUTION:\n",
        "* The solution is to combat the proliferation of misinformation on social media during the COVID-19 pandemic by building a manually annotated dataset of 10,700 social media posts and articles covering real and fake news about COVID-19. The authors conducted a binary classification task to distinguish real from fake news and benchmarked the dataset using four machine learning benchmark models - decision trees, logistic regression, gradient boosting and support vector machines (SVM). The results show that on the test set, SVM achieved an F1 score of 93.32% and performed best. The author also provides links to the dataset and code for easy use and reference by other researchers.\n"
      ]
    },
    {
      "cell_type": "markdown",
      "metadata": {
        "id": "77PIPLQ-h-j1"
      },
      "source": [
        "# Background\n",
        "Reference:The Fake News Challenge (FNC-1) organized in 2017 aimed to create a dataset for automatic detection using machine learning and deep learning techniques. Other efforts include datasets like those collected by Vlachos and Riedel (2014) and Zubiaga et al. (2016).Additionally, researchers have explored techniques to limit the spread of misinformation, including approaches such as fake news spread prevention using multimodal attention networks (Vo and Lee, 2020). For rumour debunking, datasets like Emergent (Ferreira and Vlachos, 2016) have been created, containing claims and associated news articles annotated by journalists for veracity.Researchers have developed datasets of fact-checked news articles for COVID-19 (Shahi and Nandini, 2020) and proposed models, such as BERT-based models augmented with additional features from Twitter (Kar et al., 2020), and automated pipelines for COVID-19 fake news detection using fact-checking algorithms (Vijjali et al., 2020).\n",
        "\n",
        "Explanation:The development of the dataset containing real and fake news related to COVID-19. Real news comprises tweets from verified sources providing factual information about COVID-19, while fake news includes tweets, posts, and articles making unverified claims or speculations about the virus. The data collection process follows guidelines ensuring that the content is related to COVID-19 and is in English.\n",
        "*********************************************************************************************************************\n",
        "\n",
        "\n",
        "|Reference|Explanation|Dataset/Input|Weakness|\n",
        "|------|------|------|------|\n",
        "\n",
        "\n",
        "\n",
        "*********************************************************************************************************************\n",
        "\n",
        "\n",
        "\n",
        "\n"
      ]
    },
    {
      "cell_type": "markdown",
      "metadata": {
        "id": "deODH3tMh-j2"
      },
      "source": [
        "# Implement paper code :\n",
        "*********************************************************************************************************************\n",
        "\n",
        "*\n",
        "\n"
      ]
    },
    {
      "cell_type": "markdown",
      "metadata": {
        "id": "2gkHhku9h-j2"
      },
      "source": [
        "*********************************************************************************************************************\n",
        "### Contribution  Code :\n",
        "*"
      ]
    },
    {
      "cell_type": "markdown",
      "metadata": {
        "id": "-YdFCgWoh-j3"
      },
      "source": [
        "### Results :\n",
        "*******************************************************************************************************************************\n",
        "\n",
        "\n",
        "#### Observations :\n",
        "*******************************************************************************************************************************\n",
        "*\n"
      ]
    },
    {
      "cell_type": "markdown",
      "metadata": {
        "id": "s3JVj9dKh-j3"
      },
      "source": [
        "### Conclusion and Future Direction :\n",
        "*******************************************************************************************************************************\n",
        "#### Learnings :\n",
        "\n",
        "*******************************************************************************************************************************\n",
        "#### Results Discussion :\n",
        "\n",
        "\n",
        "*******************************************************************************************************************************\n",
        "#### Limitations :\n",
        "\n",
        "\n",
        "\n",
        "*******************************************************************************************************************************\n",
        "#### Future Extension :\n"
      ]
    },
    {
      "cell_type": "markdown",
      "metadata": {
        "id": "ATXtFdtBh-j4"
      },
      "source": [
        "# References:\n",
        "\n",
        "[1]:  "
      ]
    },
    {
      "cell_type": "markdown",
      "metadata": {
        "id": "CQnMSAf-h-j4"
      },
      "source": []
    }
  ],
  "metadata": {
    "kernelspec": {
      "display_name": "Python 3",
      "language": "python",
      "name": "python3"
    },
    "language_info": {
      "codemirror_mode": {
        "name": "ipython",
        "version": 3
      },
      "file_extension": ".py",
      "mimetype": "text/x-python",
      "name": "python",
      "nbconvert_exporter": "python",
      "pygments_lexer": "ipython3",
      "version": "3.8.5"
    },
    "colab": {
      "provenance": []
    }
  },
  "nbformat": 4,
  "nbformat_minor": 0
}
