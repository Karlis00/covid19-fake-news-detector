{
  "cells": [
    {
      "cell_type": "markdown",
      "metadata": {
        "id": "5tr_jEBnh-jv"
      },
      "source": [
        "# Title: Covid19 Fake News Detector\n",
        "\n",
        "#### Group Member Names : Kam Hung Chan and Tongfei Gou\n",
        "\n"
      ]
    },
    {
      "cell_type": "markdown",
      "metadata": {
        "id": "PeKSxMvrh-j0"
      },
      "source": [
        "### INTRODUCTION:\n",
        "This article is a research effort on COVID-19 fake news.With the COVID-19 pandemic, people are fighting not only the epidemic, but also the deluge of information, the so-called “infoplague.” Social media is awash with fake news and rumors, and believing these rumors can cause significant harm, especially during a pandemic. To address this challenge, the researchers curated and published a manually labeled dataset of 10,700 social media posts and articles about COVID-19, covering both real and fake news. The authors conducted a binary classification task (real vs fake) and benchmarked it on a labeled dataset using four machine learning baselines (decision trees, logistic regression, gradient boosting, and support vector machines).\n",
        "\n",
        "*********************************************************************************************************************\n",
        "#### AIM :\n",
        "The main purpose of this study is to deal with the spread of false news on social media during the COVID-19 epidemic. By constructing a dataset containing real and fake news and benchmarking it on a binary classification task, the researchers aimed to provide a method to identify and differentiate between real and disinformation on social media. This helps the public better understand and distinguish information on social media and reduce the spread of false information, thereby reducing misleading and harm.\n",
        "\n",
        "*********************************************************************************************************************\n",
        "#### Github Repo: https://github.com/Karlis00/covid19-fake-news-detector\n",
        "\n",
        "*********************************************************************************************************************\n",
        "#### DESCRIPTION OF PAPER:\n",
        "This text outlines the problem of fake news and rumors spreading alongside the COVID-19 pandemic, often exacerbated by the vast reach of social media platforms. Belief in such misinformation can lead to significant harm, particularly during a crisis. To address this issue, the authors introduce a dataset containing 10,700 social media posts and articles labeled as real or fake news related to COVID-19. They focus on a binary classification task of distinguishing between real and fake content. The dataset is curated from various sources, including fact-checking websites and verified Twitter accounts. The authors also conduct exploratory data analysis and implement four machine learning baselines to benchmark the dataset.\n",
        "*********************************************************************************************************************\n",
        "#### PROBLEM STATEMENT :\n",
        "The abstract and introduction underscore the grave issue of misinformation, particularly fake news, proliferating alongside the COVID-19 pandemic, contributing to what is termed an 'infodemic'. This misinformation poses significant risks as it can lead to harmful actions or decisions when believed. \n",
        "*********************************************************************************************************************\n",
        "#### CONTEXT OF THE PROBLEM:\n",
        "*\n",
        "*********************************************************************************************************************\n",
        "#### SOLUTION:\n",
        "*\n"
      ]
    },
    {
      "cell_type": "markdown",
      "metadata": {
        "id": "77PIPLQ-h-j1"
      },
      "source": [
        "# Background\n",
        "*********************************************************************************************************************\n",
        "\n",
        "\n",
        "|Reference|Explanation|Dataset/Input|Weakness|\n",
        "|------|------|------|------|\n",
        "\n",
        "\n",
        "\n",
        "*********************************************************************************************************************\n",
        "\n",
        "\n",
        "\n",
        "\n"
      ]
    },
    {
      "cell_type": "markdown",
      "metadata": {
        "id": "deODH3tMh-j2"
      },
      "source": [
        "# Implement paper code :\n",
        "*********************************************************************************************************************\n",
        "\n",
        "*\n",
        "\n"
      ]
    },
    {
      "cell_type": "markdown",
      "metadata": {
        "id": "2gkHhku9h-j2"
      },
      "source": [
        "*********************************************************************************************************************\n",
        "### Contribution  Code :\n",
        "*"
      ]
    },
    {
      "cell_type": "markdown",
      "metadata": {
        "id": "-YdFCgWoh-j3"
      },
      "source": [
        "### Results :\n",
        "*******************************************************************************************************************************\n",
        "\n",
        "\n",
        "#### Observations :\n",
        "*******************************************************************************************************************************\n",
        "*\n"
      ]
    },
    {
      "cell_type": "markdown",
      "metadata": {
        "id": "s3JVj9dKh-j3"
      },
      "source": [
        "### Conclusion and Future Direction :\n",
        "*******************************************************************************************************************************\n",
        "#### Learnings :\n",
        "\n",
        "*******************************************************************************************************************************\n",
        "#### Results Discussion :\n",
        "\n",
        "\n",
        "*******************************************************************************************************************************\n",
        "#### Limitations :\n",
        "\n",
        "\n",
        "\n",
        "*******************************************************************************************************************************\n",
        "#### Future Extension :\n"
      ]
    },
    {
      "cell_type": "markdown",
      "metadata": {
        "id": "ATXtFdtBh-j4"
      },
      "source": [
        "# References:\n",
        "\n",
        "[1]:  "
      ]
    },
    {
      "cell_type": "markdown",
      "metadata": {
        "id": "CQnMSAf-h-j4"
      },
      "source": []
    }
  ],
  "metadata": {
    "kernelspec": {
      "display_name": "Python 3",
      "language": "python",
      "name": "python3"
    },
    "language_info": {
      "codemirror_mode": {
        "name": "ipython",
        "version": 3
      },
      "file_extension": ".py",
      "mimetype": "text/x-python",
      "name": "python",
      "nbconvert_exporter": "python",
      "pygments_lexer": "ipython3",
      "version": "3.8.5"
    },
    "colab": {
      "provenance": []
    }
  },
  "nbformat": 4,
  "nbformat_minor": 0
}
